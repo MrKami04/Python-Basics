{
 "cells": [
  {
   "cell_type": "markdown",
   "id": "35cb0fd4",
   "metadata": {},
   "source": [
    "### Python data types"
   ]
  },
  {
   "cell_type": "markdown",
   "id": "02986fde",
   "metadata": {},
   "source": [
    "#### Built-in-datatypes\n"
   ]
  },
  {
   "cell_type": "code",
   "execution_count": 5,
   "id": "90d25d8e",
   "metadata": {},
   "outputs": [
    {
     "name": "stdout",
     "output_type": "stream",
     "text": [
      "<class 'str'>\n",
      "<class 'int'>\n",
      "<class 'float'>\n",
      "<class 'bool'>\n",
      "<class 'list'>\n",
      "<class 'tuple'>\n",
      "<class 'set'>\n",
      "<class 'dict'>\n",
      "<class 'NoneType'>\n",
      "<class 'complex'>\n",
      "<class 'range'>\n",
      "<class 'frozenset'>\n",
      "<class 'bytes'>\n",
      "<class 'bytearray'>\n",
      "<class 'memoryview'>\n"
     ]
    }
   ],
   "source": [
    "x = \"hello world\" ; print(type(x))  # String data type\n",
    "x = 5 ; print(type(x))  # Integer data type\n",
    "x = 3.14;  print(type(x)) # Float data type\n",
    "x = True; print(type(x))  # Boolean data type\n",
    "x = [1, 2, 3];print(type(x))  # List data type\n",
    "x = (1, 2, 3);  print(type(x))  # Tuple data type\n",
    "x = {1, 2, 3}; print(type(x))  # Set data type\n",
    "x = {\"key\": \"value\"};  print(type(x))  # Dictionary data type\n",
    "x = None;  print(type(x))  # NoneType data type\n",
    "x = 2 - 4j;  print(type(x))  # Complex data type\n",
    "x = range(5);  print(type(x))  # Range data type\n",
    "x = frozenset([1, 2, 3]);  print(type(x))  # Frozenset data type\n",
    "x = bytes(5);  print(type(x))  # Bytes data type\n",
    "x = bytearray(5);  print(type(x))  # Bytearray data type\n",
    "x = memoryview(bytes(5));  print(type(x))  # Memoryview data type\n"
   ]
  },
  {
   "cell_type": "markdown",
   "id": "1d76026b",
   "metadata": {},
   "source": [
    "####  Python numbers"
   ]
  },
  {
   "cell_type": "code",
   "execution_count": 7,
   "id": "0bc6ef61",
   "metadata": {},
   "outputs": [
    {
     "name": "stdout",
     "output_type": "stream",
     "text": [
      "<class 'int'>\n",
      "<class 'float'>\n",
      "<class 'complex'>\n"
     ]
    }
   ],
   "source": [
    "# int\n",
    "x = 5; print(type(x))  # Integer data type\n",
    "# float\n",
    "x = 3.14; print(type(x))  # Float data type\n",
    "# complex\n",
    "x = 2 - 4j; print(type(x))  # Complex data type"
   ]
  },
  {
   "cell_type": "markdown",
   "id": "5d6deb79",
   "metadata": {},
   "source": [
    "#### Type Conversion"
   ]
  },
  {
   "cell_type": "code",
   "execution_count": null,
   "id": "5e383580",
   "metadata": {},
   "outputs": [
    {
     "name": "stdout",
     "output_type": "stream",
     "text": [
      "5.0 <class 'float'>\n",
      "3 <class 'int'>\n",
      "(5+0j) <class 'complex'>\n"
     ]
    }
   ],
   "source": [
    "x = 5\n",
    "y = 3.14\n",
    "z = 2 - 4j\n",
    "\n",
    "# Type Conversion\n",
    "a = float(x)  # Convert int to float\n",
    "b = int(y)    # Convert float to int\n",
    "c = complex(x)  # Convert int to complex\n",
    "print(a, type(a))  # Output: 5.0 <class 'float'>\n",
    "print(b, type(b))  # Output: 3 <class 'int'>\n",
    "print(c, type(c))  # Output: (5+0j) <class 'complex'>\n",
    "\n",
    "# cannot convert complex to int directly"
   ]
  },
  {
   "cell_type": "markdown",
   "id": "34208aba",
   "metadata": {},
   "source": [
    "#### Random number"
   ]
  },
  {
   "cell_type": "code",
   "execution_count": 9,
   "id": "49506ff3",
   "metadata": {},
   "outputs": [
    {
     "name": "stdout",
     "output_type": "stream",
     "text": [
      "3\n"
     ]
    }
   ],
   "source": [
    "import random\n",
    "print(random.randint(1, 10))  # Random integer between 1 and 10"
   ]
  },
  {
   "cell_type": "markdown",
   "id": "162f459b",
   "metadata": {},
   "source": [
    "#### python casting"
   ]
  },
  {
   "cell_type": "code",
   "execution_count": 10,
   "id": "e7135240",
   "metadata": {},
   "outputs": [],
   "source": [
    "#  integer\n",
    "x = int(3) # x will be 3\n",
    "y = int(3.5) # y will be 3\n",
    "z = int(\"3\") # z will be 3\n",
    "\n",
    "# float\n",
    "x = float(3) # x will be 3.0\n",
    "y = float(3.5) # y will be 3.5\n",
    "z = float(\"3.5\") # z will be 3.5\n",
    "\n",
    "# string\n",
    "x = str(3) # x will be \"3\"\n",
    "y = str(3.5) # y will be \"3.5\"\n",
    "z  = str(\"3.5\") # z will be \"3.5\"\n",
    " \n",
    "# complex\n",
    "x = complex(3) # x will be (3+0j)\n",
    "y = complex(3.5) # y will be (3.5+0j\n",
    "z = complex(\"3+4j\") # z will be (3+4j)"
   ]
  }
 ],
 "metadata": {
  "kernelspec": {
   "display_name": "mlatest_env",
   "language": "python",
   "name": "python3"
  },
  "language_info": {
   "codemirror_mode": {
    "name": "ipython",
    "version": 3
   },
   "file_extension": ".py",
   "mimetype": "text/x-python",
   "name": "python",
   "nbconvert_exporter": "python",
   "pygments_lexer": "ipython3",
   "version": "3.13.2"
  }
 },
 "nbformat": 4,
 "nbformat_minor": 5
}
