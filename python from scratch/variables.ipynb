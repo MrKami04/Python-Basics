{
 "cells": [
  {
   "cell_type": "markdown",
   "id": "00907e93",
   "metadata": {},
   "source": [
    "### variable"
   ]
  },
  {
   "cell_type": "markdown",
   "id": "714b93cd",
   "metadata": {},
   "source": [
    "#### creating variiables"
   ]
  },
  {
   "cell_type": "code",
   "execution_count": null,
   "id": "a6703cdb",
   "metadata": {},
   "outputs": [
    {
     "name": "stdout",
     "output_type": "stream",
     "text": [
      "5\n",
      "Hello, world!\n"
     ]
    }
   ],
   "source": [
    "x = 5   #  x is variable of type int\n",
    "y = \"Hello, world!\"\n",
    "print(x)\n",
    "print(y)"
   ]
  },
  {
   "cell_type": "markdown",
   "id": "0df9f592",
   "metadata": {},
   "source": [
    "#### Casting"
   ]
  },
  {
   "cell_type": "code",
   "execution_count": 4,
   "id": "793c7914",
   "metadata": {},
   "outputs": [],
   "source": [
    "x = str(5)\n",
    "y = int(5)\n",
    "z = float(5)"
   ]
  },
  {
   "cell_type": "markdown",
   "id": "1a5bd406",
   "metadata": {},
   "source": [
    "#### Get the type"
   ]
  },
  {
   "cell_type": "code",
   "execution_count": 5,
   "id": "cbe52474",
   "metadata": {},
   "outputs": [
    {
     "name": "stdout",
     "output_type": "stream",
     "text": [
      "<class 'int'>\n",
      "<class 'str'>\n"
     ]
    }
   ],
   "source": [
    "x = 5\n",
    "y = \"Hello, world!\"\n",
    "print(type(x))\n",
    "print(type(y))"
   ]
  },
  {
   "cell_type": "markdown",
   "id": "77723b40",
   "metadata": {},
   "source": [
    "#### single or double quotes?"
   ]
  },
  {
   "cell_type": "code",
   "execution_count": null,
   "id": "16fbf4a8",
   "metadata": {},
   "outputs": [],
   "source": [
    "x = \"john\"\n",
    "# both are same meaning\n",
    "x = 'john'  "
   ]
  },
  {
   "cell_type": "markdown",
   "id": "5dadaf97",
   "metadata": {},
   "source": [
    "#### variable are case-sensitive"
   ]
  },
  {
   "cell_type": "code",
   "execution_count": 7,
   "id": "14ce50f2",
   "metadata": {},
   "outputs": [
    {
     "name": "stdout",
     "output_type": "stream",
     "text": [
      "4\n",
      "john\n"
     ]
    }
   ],
   "source": [
    "a = 4\n",
    "A = \"john\"\n",
    "# A will not overwrite a\n",
    "print(a)    \n",
    "print(A)"
   ]
  },
  {
   "cell_type": "markdown",
   "id": "8b5c3a09",
   "metadata": {},
   "source": [
    "#### python variable name rules"
   ]
  },
  {
   "cell_type": "code",
   "execution_count": 8,
   "id": "fd71bf76",
   "metadata": {},
   "outputs": [],
   "source": [
    "# legal variable names:\n",
    "myvar = \"john\"\n",
    "_my_var = \"john\"\n",
    "myVar = \"john\"\n",
    "MYVAR = \"john\"\n",
    "my_var = \"john\"\n",
    "myvar2 = \"john\"\n",
    "\n",
    "# illegal variable names:\n",
    "# 2myvar = \"john\"  # cannot start with a number\n",
    "# my-var = \"john\"  # cannot contain hyphens\n",
    "# my var = \"john\"  # cannot contain spaces\n",
    "# my@var = \"john\"  # cannot contain special characters like @"
   ]
  },
  {
   "cell_type": "markdown",
   "id": "a952b6aa",
   "metadata": {},
   "source": [
    "#### variable name techniques"
   ]
  },
  {
   "cell_type": "markdown",
   "id": "2637c21e",
   "metadata": {},
   "source": [
    "#### camel case"
   ]
  },
  {
   "cell_type": "code",
   "execution_count": null,
   "id": "c3040b03",
   "metadata": {},
   "outputs": [],
   "source": [
    "# camel case : each word starts with a capital letter except the first word\n",
    "myVariableName = \"john\"\n",
    "myName = \"john\""
   ]
  },
  {
   "cell_type": "markdown",
   "id": "1c4db32d",
   "metadata": {},
   "source": [
    "#### pascal case"
   ]
  },
  {
   "cell_type": "code",
   "execution_count": 11,
   "id": "423fedd9",
   "metadata": {},
   "outputs": [],
   "source": [
    "# pascal case : each word starts with a capital letter\n",
    "MyVariableName = \"john\"\n",
    "MyName = \"john\""
   ]
  },
  {
   "cell_type": "markdown",
   "id": "bcffc225",
   "metadata": {},
   "source": [
    "#### snake case"
   ]
  },
  {
   "cell_type": "code",
   "execution_count": 10,
   "id": "a5eac902",
   "metadata": {},
   "outputs": [],
   "source": [
    "# snake case : words are separated by underscores\n",
    "my_variable_name = \"john\"\n",
    "my_name = \"john\""
   ]
  },
  {
   "cell_type": "markdown",
   "id": "0668f206",
   "metadata": {},
   "source": [
    "#### python variable - assign multiple values"
   ]
  },
  {
   "cell_type": "code",
   "execution_count": 12,
   "id": "57ded53a",
   "metadata": {},
   "outputs": [
    {
     "name": "stdout",
     "output_type": "stream",
     "text": [
      "Orange\n",
      "Banana\n",
      "Cherry\n"
     ]
    }
   ],
   "source": [
    "x, y, z = \"Orange\", \"Banana\", \"Cherry\"\n",
    "print(x)\n",
    "print(y)\n",
    "print(z)"
   ]
  },
  {
   "cell_type": "markdown",
   "id": "851947fb",
   "metadata": {},
   "source": [
    "#### One value to multiple variables"
   ]
  },
  {
   "cell_type": "code",
   "execution_count": 13,
   "id": "7b4033ab",
   "metadata": {},
   "outputs": [
    {
     "name": "stdout",
     "output_type": "stream",
     "text": [
      "Orange\n",
      "Orange\n",
      "Orange\n"
     ]
    }
   ],
   "source": [
    "x = y= z = \"Orange\"\n",
    "print(x)\n",
    "print(y)\n",
    "print(z)"
   ]
  },
  {
   "cell_type": "markdown",
   "id": "0d7cad6f",
   "metadata": {},
   "source": [
    "#### unpack a collection"
   ]
  },
  {
   "cell_type": "code",
   "execution_count": 14,
   "id": "8bca7248",
   "metadata": {},
   "outputs": [
    {
     "name": "stdout",
     "output_type": "stream",
     "text": [
      "apple\n",
      "banana\n",
      "cherry\n"
     ]
    }
   ],
   "source": [
    "fruits = [\"apple\", \"banana\", \"cherry\"]\n",
    "x, y, z = fruits\n",
    "print(x)\n",
    "print(y)\n",
    "print(z)"
   ]
  },
  {
   "cell_type": "markdown",
   "id": "6d64aa61",
   "metadata": {},
   "source": [
    "#### python output variable"
   ]
  },
  {
   "cell_type": "code",
   "execution_count": 15,
   "id": "b9b64445",
   "metadata": {},
   "outputs": [
    {
     "name": "stdout",
     "output_type": "stream",
     "text": [
      "python is awesome\n",
      "python is awesome\n",
      "python is awesome\n"
     ]
    }
   ],
   "source": [
    "x = \"python is awesome\"\n",
    "print(x)\n",
    "x =\"python\"\n",
    "y = \"is\"\n",
    "z = \"awesome\"\n",
    "print(x,y,z)\n",
    "print(x + \" \" + y + \" \" + z)"
   ]
  },
  {
   "cell_type": "markdown",
   "id": "d5d29226",
   "metadata": {},
   "source": [
    "#### python global variables"
   ]
  },
  {
   "cell_type": "code",
   "execution_count": null,
   "id": "3210ff73",
   "metadata": {},
   "outputs": [
    {
     "name": "stdout",
     "output_type": "stream",
     "text": [
      "Python is awesome\n"
     ]
    }
   ],
   "source": [
    "x = \"awesome\"  # global variable\n",
    "def myfunc():\n",
    "    print(\"Python is \" + x)\n",
    "myfunc()"
   ]
  },
  {
   "cell_type": "code",
   "execution_count": null,
   "id": "651dd20a",
   "metadata": {},
   "outputs": [
    {
     "name": "stdout",
     "output_type": "stream",
     "text": [
      "Python-is fantastic\n",
      "Python is awesome\n"
     ]
    }
   ],
   "source": [
    "x = \"awesome\" # global variable\n",
    "def myfunc():\n",
    "    x = \"fantastic\" # local variable\n",
    "    print(\"Python-is \" + x)\n",
    "myfunc()\n",
    "print(\"Python is \" + x)  # this will print the global variable"
   ]
  },
  {
   "cell_type": "code",
   "execution_count": 19,
   "id": "a9d77705",
   "metadata": {},
   "outputs": [
    {
     "name": "stdout",
     "output_type": "stream",
     "text": [
      "Python is fantastic\n"
     ]
    }
   ],
   "source": [
    "x = \"awesome\"\n",
    "def myfunc():\n",
    "    global x\n",
    "    x = \"fantastic\"\n",
    "myfunc()\n",
    "print(\"Python is \" + x)  # this will print the modified global variable"
   ]
  }
 ],
 "metadata": {
  "kernelspec": {
   "display_name": "mlatest_env",
   "language": "python",
   "name": "python3"
  },
  "language_info": {
   "codemirror_mode": {
    "name": "ipython",
    "version": 3
   },
   "file_extension": ".py",
   "mimetype": "text/x-python",
   "name": "python",
   "nbconvert_exporter": "python",
   "pygments_lexer": "ipython3",
   "version": "3.13.2"
  }
 },
 "nbformat": 4,
 "nbformat_minor": 5
}
