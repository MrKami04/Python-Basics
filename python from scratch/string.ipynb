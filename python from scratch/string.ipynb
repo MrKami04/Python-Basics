{
 "cells": [
  {
   "cell_type": "markdown",
   "id": "ab7e02d9",
   "metadata": {},
   "source": [
    "### Python string"
   ]
  },
  {
   "cell_type": "markdown",
   "id": "0211970d",
   "metadata": {},
   "source": [
    "#### Assign string to a variable"
   ]
  },
  {
   "cell_type": "code",
   "execution_count": 1,
   "id": "2646e7e2",
   "metadata": {},
   "outputs": [
    {
     "name": "stdout",
     "output_type": "stream",
     "text": [
      "Hello\n"
     ]
    }
   ],
   "source": [
    "a = \"Hello\"\n",
    "print(a)  # Output: Hello"
   ]
  },
  {
   "cell_type": "markdown",
   "id": "f3dbf539",
   "metadata": {},
   "source": [
    "#### multiline strings"
   ]
  },
  {
   "cell_type": "code",
   "execution_count": 4,
   "id": "47acf92b",
   "metadata": {},
   "outputs": [
    {
     "name": "stdout",
     "output_type": "stream",
     "text": [
      "\n",
      "This is a multiline string.\n",
      "Are you enjoying?\n",
      "It can span multiple lines.\n",
      "You can use it for longer text.\n",
      "\n",
      "This is another multiline string.\n",
      "Yes, i enjoing it.\n",
      "It also spans multiple lines.\n",
      "You can use it for longer text.\n",
      "\n"
     ]
    }
   ],
   "source": [
    "# three double quotes for multiline strings\n",
    "a = \"\"\"\n",
    "This is a multiline string.\n",
    "Are you enjoying?\n",
    "It can span multiple lines.\n",
    "You can use it for longer text.\n",
    "\"\"\"\n",
    "print(a)  # Output: Multiline string content\n",
    "\n",
    "# three single quotes for multiline strings\n",
    "b = '''This is another multiline string.\n",
    "Yes, i enjoing it.\n",
    "It also spans multiple lines.\n",
    "You can use it for longer text.\n",
    "'''\n",
    "print(b)  # Output: Another multiline string content"
   ]
  },
  {
   "cell_type": "markdown",
   "id": "c2fd907b",
   "metadata": {},
   "source": [
    "#### string are arrays"
   ]
  },
  {
   "cell_type": "code",
   "execution_count": 1,
   "id": "3a246b9d",
   "metadata": {},
   "outputs": [
    {
     "name": "stdout",
     "output_type": "stream",
     "text": [
      "e\n"
     ]
    }
   ],
   "source": [
    "a = \"Hello, World!\"\n",
    "print(a[1]) "
   ]
  },
  {
   "cell_type": "markdown",
   "id": "5f71296d",
   "metadata": {},
   "source": [
    "#### looping through a string\n"
   ]
  },
  {
   "cell_type": "code",
   "execution_count": 2,
   "id": "59d8c04f",
   "metadata": {},
   "outputs": [
    {
     "name": "stdout",
     "output_type": "stream",
     "text": [
      "b\n",
      "a\n",
      "n\n",
      "a\n",
      "n\n",
      "a\n"
     ]
    }
   ],
   "source": [
    "for i in \"banana\":\n",
    "    print(i)  # Output: b, a, n, a, n, a"
   ]
  },
  {
   "cell_type": "markdown",
   "id": "c9a5e53e",
   "metadata": {},
   "source": [
    "#### string length"
   ]
  },
  {
   "cell_type": "code",
   "execution_count": 3,
   "id": "ec3886cb",
   "metadata": {},
   "outputs": [
    {
     "name": "stdout",
     "output_type": "stream",
     "text": [
      "13\n"
     ]
    }
   ],
   "source": [
    "a = \"Hello, World!\"\n",
    "print(len(a))  # Output: 13 (length of the string)"
   ]
  },
  {
   "cell_type": "markdown",
   "id": "b707bde8",
   "metadata": {},
   "source": [
    "#### check string"
   ]
  },
  {
   "cell_type": "code",
   "execution_count": 4,
   "id": "f78a22a8",
   "metadata": {},
   "outputs": [
    {
     "name": "stdout",
     "output_type": "stream",
     "text": [
      "Yes, 'free' is present.\n"
     ]
    }
   ],
   "source": [
    "txt = \"The best things in life are free!\"\n",
    "if \"free\" in txt:\n",
    "    print(\"Yes, 'free' is present.\")  # Output: Yes, 'free' is present."
   ]
  },
  {
   "cell_type": "markdown",
   "id": "73d5ed12",
   "metadata": {},
   "source": [
    "#### check if not"
   ]
  },
  {
   "cell_type": "code",
   "execution_count": 5,
   "id": "c4615bc4",
   "metadata": {},
   "outputs": [
    {
     "name": "stdout",
     "output_type": "stream",
     "text": [
      "No, 'expensive' is NOT present.\n"
     ]
    }
   ],
   "source": [
    "txt = \"The best things in life are free!\"\n",
    "if \" expenive\" not in txt:\n",
    "    print(\"No, 'expensive' is NOT present.\")  # Output: No, 'expensive' is NOT present."
   ]
  },
  {
   "cell_type": "markdown",
   "id": "fda61d87",
   "metadata": {},
   "source": [
    "#### python slicing strings"
   ]
  },
  {
   "cell_type": "markdown",
   "id": "da9f6f14",
   "metadata": {},
   "source": [
    "#### slice"
   ]
  },
  {
   "cell_type": "code",
   "execution_count": 6,
   "id": "edfdd701",
   "metadata": {},
   "outputs": [
    {
     "name": "stdout",
     "output_type": "stream",
     "text": [
      "llo\n"
     ]
    }
   ],
   "source": [
    "b = \"Hello, World!\"\n",
    "print(b[2:5])  # Output: llo (characters from index 2 to 4)"
   ]
  },
  {
   "cell_type": "markdown",
   "id": "6898265f",
   "metadata": {},
   "source": [
    "#### Slice from the start"
   ]
  },
  {
   "cell_type": "code",
   "execution_count": 7,
   "id": "3a59831d",
   "metadata": {},
   "outputs": [
    {
     "name": "stdout",
     "output_type": "stream",
     "text": [
      "Hello\n"
     ]
    }
   ],
   "source": [
    "b = \"Hello, World!\"\n",
    "print(b[:5])  # Output: Hello (characters from the start to index 4)"
   ]
  },
  {
   "cell_type": "markdown",
   "id": "22b89f81",
   "metadata": {},
   "source": [
    "#### slice to the end"
   ]
  },
  {
   "cell_type": "code",
   "execution_count": 8,
   "id": "cd433ed5",
   "metadata": {},
   "outputs": [
    {
     "name": "stdout",
     "output_type": "stream",
     "text": [
      "llo, World!\n"
     ]
    }
   ],
   "source": [
    "b = \"Hello, World!\"\n",
    "print(b[2:])  # Output: llo, World! (characters from index 2 to the end)"
   ]
  },
  {
   "cell_type": "markdown",
   "id": "b47a4f7e",
   "metadata": {},
   "source": [
    "#### Negative indexing"
   ]
  },
  {
   "cell_type": "code",
   "execution_count": 9,
   "id": "e69f64fc",
   "metadata": {},
   "outputs": [
    {
     "name": "stdout",
     "output_type": "stream",
     "text": [
      "orl\n"
     ]
    }
   ],
   "source": [
    "b = \"Hello, World!\"\n",
    "print(b[-5:-2])  # Output: orl (characters from index -5 to -3, excluding -2)"
   ]
  },
  {
   "cell_type": "markdown",
   "id": "8f1eeb4d",
   "metadata": {},
   "source": [
    "#### Python Modify strings"
   ]
  },
  {
   "cell_type": "markdown",
   "id": "a9980481",
   "metadata": {},
   "source": [
    "#### Upper case"
   ]
  },
  {
   "cell_type": "code",
   "execution_count": 10,
   "id": "ad5145fd",
   "metadata": {},
   "outputs": [
    {
     "name": "stdout",
     "output_type": "stream",
     "text": [
      "HELLO, WORLD!\n"
     ]
    }
   ],
   "source": [
    "a = \"Hello, World!\"\n",
    "print(a.upper())  # Output: HELLO, WORLD! (converts to uppercase)"
   ]
  },
  {
   "cell_type": "markdown",
   "id": "796b4463",
   "metadata": {},
   "source": [
    "#### Lower case"
   ]
  },
  {
   "cell_type": "code",
   "execution_count": 11,
   "id": "bed5976d",
   "metadata": {},
   "outputs": [
    {
     "name": "stdout",
     "output_type": "stream",
     "text": [
      "hello, world!\n"
     ]
    }
   ],
   "source": [
    "a = \"Hello, World!\"\n",
    "print(a.lower())  # Output: hello, world! (converts to lowercase)"
   ]
  },
  {
   "cell_type": "markdown",
   "id": "f9f9e9c8",
   "metadata": {},
   "source": [
    "#### remove whitespace"
   ]
  },
  {
   "cell_type": "code",
   "execution_count": 12,
   "id": "3d9ed6ae",
   "metadata": {},
   "outputs": [
    {
     "name": "stdout",
     "output_type": "stream",
     "text": [
      "Hello, World!\n"
     ]
    }
   ],
   "source": [
    "# sritp() method removes any whitespace from the beginning and end of a string\n",
    "a = \" Hello, World! \"\n",
    "print(a.strip())  # Output: Hello, World! (removes leading and trailing whitespace"
   ]
  },
  {
   "cell_type": "markdown",
   "id": "3f562d05",
   "metadata": {},
   "source": [
    "#### Replace string"
   ]
  },
  {
   "cell_type": "code",
   "execution_count": 13,
   "id": "e88a9059",
   "metadata": {},
   "outputs": [
    {
     "name": "stdout",
     "output_type": "stream",
     "text": [
      "Hello, Python!\n"
     ]
    }
   ],
   "source": [
    "a = \"Hello, World!\"\n",
    "print(a.replace(\"World\", \"Python\"))  # Output: Hello, Python! (replaces \"World\" with \"Python\")"
   ]
  },
  {
   "cell_type": "markdown",
   "id": "a60f26c5",
   "metadata": {},
   "source": [
    "#### split string"
   ]
  },
  {
   "cell_type": "code",
   "execution_count": 14,
   "id": "e1f3959f",
   "metadata": {},
   "outputs": [
    {
     "name": "stdout",
     "output_type": "stream",
     "text": [
      "['Hello', ' World!']\n"
     ]
    }
   ],
   "source": [
    "a = \"Hello, World!\"\n",
    "print(a.split(\",\"))  # Output: ['Hello', ' World!'] (splits the string into a list at the comma)"
   ]
  },
  {
   "cell_type": "markdown",
   "id": "9d5a7bc9",
   "metadata": {},
   "source": [
    "#### Python string concatenation"
   ]
  },
  {
   "cell_type": "code",
   "execution_count": 16,
   "id": "1654b398",
   "metadata": {},
   "outputs": [
    {
     "name": "stdout",
     "output_type": "stream",
     "text": [
      "HelloWorld\n",
      "------------\n",
      "Hello World\n"
     ]
    }
   ],
   "source": [
    "a = \"Hello\"\n",
    "b = \"World\"\n",
    "c = a + b\n",
    "print(c)  # Output: HelloWorld (concatenates two strings)\n",
    "print(\"------------\")\n",
    "\n",
    "# Concatenating with a space\n",
    "a = \"Hello\" \n",
    "b = \"World\"\n",
    "c = a + \" \" + b\n",
    "print(c)  # Output: Hello World (concatenates with a space in between)"
   ]
  },
  {
   "cell_type": "markdown",
   "id": "701d98f9",
   "metadata": {},
   "source": [
    "#### Python format strings"
   ]
  },
  {
   "cell_type": "markdown",
   "id": "db1665fd",
   "metadata": {},
   "source": [
    "##### string format"
   ]
  },
  {
   "cell_type": "code",
   "execution_count": 17,
   "id": "aa7716f6",
   "metadata": {},
   "outputs": [
    {
     "name": "stdout",
     "output_type": "stream",
     "text": [
      "My name is John, and I am 36\n"
     ]
    }
   ],
   "source": [
    "# the format() method formats the specified value(s) and insert them inside the string's placeholder\n",
    "age = 36\n",
    "txt = \"My name is John, and I am {}\"\n",
    "print(txt.format(age))  # Output: My name is John, and I am 36"
   ]
  },
  {
   "cell_type": "code",
   "execution_count": 18,
   "id": "f8f2ce4f",
   "metadata": {},
   "outputs": [
    {
     "name": "stdout",
     "output_type": "stream",
     "text": [
      "I want 3 pieces of item number 567 for 49.95 dollars.\n"
     ]
    }
   ],
   "source": [
    "# unlimited number of arguments\n",
    "quantity = 3\n",
    "itemno = 567\n",
    "price = 49.95\n",
    "myorder = \"I want {} pieces of item number {} for {} dollars.\"\n",
    "print(myorder.format(quantity, itemno, price))  # Output: I want 3 pieces of item number 567 for 49.95 dollars.\n"
   ]
  },
  {
   "cell_type": "markdown",
   "id": "01f42a1e",
   "metadata": {},
   "source": [
    "#### Python escape characters"
   ]
  },
  {
   "cell_type": "code",
   "execution_count": 20,
   "id": "ef89d46e",
   "metadata": {},
   "outputs": [
    {
     "name": "stdout",
     "output_type": "stream",
     "text": [
      "we are the so-called \"Vikings\" from the north.\n"
     ]
    }
   ],
   "source": [
    "# txt = \"we are the so-called \"Vikings\" from the north.\"   # This line will cause a syntax error because of the unescaped double quotes inside the string.\n",
    "txt = \"we are the so-called \\\"Vikings\\\" from the north.\"  # Corrected with escape characters\n",
    "print(txt)  # Output: we are the so-called \"Vikings\" from the north.\n"
   ]
  },
  {
   "cell_type": "markdown",
   "id": "d43fb779",
   "metadata": {},
   "source": [
    "####   Code and result\n",
    "- \\' -> single quote ,  \\\\ -> backslash,   \\n ->  new line,  \\r -> carriage return,  \\t -> tab\n",
    "- \\b -> backspace,  \\f -> form feed,  \\ooo -> octal value,  \\xhh -> Hex value\n"
   ]
  },
  {
   "cell_type": "markdown",
   "id": "0bc1739b",
   "metadata": {},
   "source": [
    "#### Python -string methods"
   ]
  },
  {
   "cell_type": "markdown",
   "id": "f791ade2",
   "metadata": {},
   "source": [
    "#### capitalize()"
   ]
  },
  {
   "cell_type": "code",
   "execution_count": 21,
   "id": "517c713a",
   "metadata": {},
   "outputs": [
    {
     "name": "stdout",
     "output_type": "stream",
     "text": [
      "Hello, world!\n"
     ]
    }
   ],
   "source": [
    "a = \"Hello, World!\"\n",
    "print(a.capitalize())  # Output: Hello, world! (capitalizes the first character)"
   ]
  },
  {
   "cell_type": "markdown",
   "id": "e61923c6",
   "metadata": {},
   "source": [
    "#### casefold()"
   ]
  },
  {
   "cell_type": "code",
   "execution_count": 22,
   "id": "de708cb9",
   "metadata": {},
   "outputs": [
    {
     "name": "stdout",
     "output_type": "stream",
     "text": [
      "hello, world!\n"
     ]
    }
   ],
   "source": [
    "a = \"Hello, World!\"\n",
    "print(a.casefold())  # Output: hello, world! (casefolds the string for case-insensitive comparison)"
   ]
  },
  {
   "cell_type": "markdown",
   "id": "93bc2893",
   "metadata": {},
   "source": [
    "#### center()"
   ]
  },
  {
   "cell_type": "code",
   "execution_count": 26,
   "id": "8538a0d1",
   "metadata": {},
   "outputs": [
    {
     "name": "stdout",
     "output_type": "stream",
     "text": [
      "***Hello, World!****\n"
     ]
    }
   ],
   "source": [
    "a = \"Hello, World!\"\n",
    "print(a.center(20, '*'))  # Output: ****Hello, World!**** (centers the string within a width of 20 characters, filling with '*')"
   ]
  },
  {
   "cell_type": "markdown",
   "id": "931dce18",
   "metadata": {},
   "source": [
    "#### count()"
   ]
  },
  {
   "cell_type": "code",
   "execution_count": 27,
   "id": "d5c582ee",
   "metadata": {},
   "outputs": [
    {
     "name": "stdout",
     "output_type": "stream",
     "text": [
      "2\n"
     ]
    }
   ],
   "source": [
    "a = \"Hello, World!\"\n",
    "print(a.count('o'))  # Output: 2 (counts occurrences of 'o' in the string)"
   ]
  },
  {
   "cell_type": "markdown",
   "id": "27442c93",
   "metadata": {},
   "source": [
    "#### encode()"
   ]
  },
  {
   "cell_type": "code",
   "execution_count": 28,
   "id": "11d94d3e",
   "metadata": {},
   "outputs": [
    {
     "name": "stdout",
     "output_type": "stream",
     "text": [
      "b'Hello, World!'\n"
     ]
    }
   ],
   "source": [
    "a = \"Hello, World!\"\n",
    "print(a.encode('utf-8'))  # Output: b'Hello, World!' (encodes the string to bytes using UTF-8 encoding)"
   ]
  },
  {
   "cell_type": "markdown",
   "id": "7fe96d98",
   "metadata": {},
   "source": [
    "#### endswith()"
   ]
  },
  {
   "cell_type": "code",
   "execution_count": 29,
   "id": "e56bb511",
   "metadata": {},
   "outputs": [
    {
     "name": "stdout",
     "output_type": "stream",
     "text": [
      "True\n"
     ]
    }
   ],
   "source": [
    "a = \"Hello, World!\"\n",
    "print(a.endswith('World!'))  # Output: True (checks if the string ends with 'World!')"
   ]
  },
  {
   "cell_type": "markdown",
   "id": "a314c050",
   "metadata": {},
   "source": [
    "#### expandtabs()"
   ]
  },
  {
   "cell_type": "code",
   "execution_count": 42,
   "id": "72e678ed",
   "metadata": {},
   "outputs": [
    {
     "name": "stdout",
     "output_type": "stream",
     "text": [
      "Name      Age       City\n"
     ]
    }
   ],
   "source": [
    "text = \"Name\\tAge\\tCity\"\n",
    "print(text.expandtabs(10))\n"
   ]
  },
  {
   "cell_type": "markdown",
   "id": "ad39f88e",
   "metadata": {},
   "source": [
    "#### find()"
   ]
  },
  {
   "cell_type": "code",
   "execution_count": 39,
   "id": "39eb11c2",
   "metadata": {},
   "outputs": [
    {
     "name": "stdout",
     "output_type": "stream",
     "text": [
      "7\n"
     ]
    }
   ],
   "source": [
    "a = \"Hello, World!\"\n",
    "print(a.find('World'))  # Output: 7 (finds the index of 'World' in the string, returns -1 if not found)"
   ]
  },
  {
   "cell_type": "markdown",
   "id": "f1cb32d4",
   "metadata": {},
   "source": [
    "#### format_map()"
   ]
  },
  {
   "cell_type": "code",
   "execution_count": 41,
   "id": "482e9d7c",
   "metadata": {},
   "outputs": [
    {
     "name": "stdout",
     "output_type": "stream",
     "text": [
      "My name is Ali and I am 25 years old.\n"
     ]
    }
   ],
   "source": [
    "data = {'name': 'Ali', 'age': 25}\n",
    "sentence = \"My name is {name} and I am {age} years old.\".format_map(data)\n",
    "print(sentence)\n"
   ]
  },
  {
   "cell_type": "markdown",
   "id": "be00cdb0",
   "metadata": {},
   "source": [
    "#### index()"
   ]
  },
  {
   "cell_type": "code",
   "execution_count": 43,
   "id": "ac076857",
   "metadata": {},
   "outputs": [
    {
     "name": "stdout",
     "output_type": "stream",
     "text": [
      "7\n"
     ]
    }
   ],
   "source": [
    "a = \"Hello, World!\"\n",
    "print(a.index('World'))  # Output: 7 (finds the index of 'World' in the string, raises ValueError if not found)"
   ]
  },
  {
   "cell_type": "markdown",
   "id": "8e6b0c0f",
   "metadata": {},
   "source": [
    "#### isalnum()"
   ]
  },
  {
   "cell_type": "code",
   "execution_count": 56,
   "id": "0029915b",
   "metadata": {},
   "outputs": [
    {
     "name": "stdout",
     "output_type": "stream",
     "text": [
      "True\n",
      "True\n"
     ]
    }
   ],
   "source": [
    "text = \"Code123\"\n",
    "print(text.isalnum())  # Output: True (checks if the string is alphanumeric, i.e., contains only letters and numbers)\n",
    "# Example of a string that is alphanumeric  \n",
    "a = \"22\"\n",
    "print(a.isalnum())  # Output: True (checks if the string is alphanumeric, i.e., contains only letters and numbers)\n"
   ]
  },
  {
   "cell_type": "markdown",
   "id": "bf3245ec",
   "metadata": {},
   "source": [
    "#### isalpha()"
   ]
  },
  {
   "cell_type": "code",
   "execution_count": 58,
   "id": "c937ae9c",
   "metadata": {},
   "outputs": [
    {
     "name": "stdout",
     "output_type": "stream",
     "text": [
      "True\n"
     ]
    }
   ],
   "source": [
    "text = \"Python\"\n",
    "print(text.isalpha())  # Output: True (checks if the string contains only alphabetic characters)"
   ]
  },
  {
   "cell_type": "markdown",
   "id": "3a12933f",
   "metadata": {},
   "source": [
    "#### isdecimal()"
   ]
  },
  {
   "cell_type": "code",
   "execution_count": 63,
   "id": "a579c377",
   "metadata": {},
   "outputs": [
    {
     "name": "stdout",
     "output_type": "stream",
     "text": [
      "True\n",
      "False\n"
     ]
    }
   ],
   "source": [
    "num = \"12345\"\n",
    "print(num.isdecimal())\n",
    "num = \"12.9\"\n",
    "print(num.isdecimal())  # Output: False (checks if the string contains only decimal characters, returns False for non-decimal characters)"
   ]
  },
  {
   "cell_type": "markdown",
   "id": "4caf16e2",
   "metadata": {},
   "source": [
    "#### isdigit"
   ]
  },
  {
   "cell_type": "code",
   "execution_count": null,
   "id": "967ab5c0",
   "metadata": {},
   "outputs": [
    {
     "name": "stdout",
     "output_type": "stream",
     "text": [
      "True\n",
      "False\n"
     ]
    }
   ],
   "source": [
    "num = \"2025\"\n",
    "print(num.isdigit())  # Output: True (checks if the string contains only digits)\n",
    "num = \"12.9\"\n",
    "print(num.isdigit()) "
   ]
  },
  {
   "cell_type": "markdown",
   "id": "83918d96",
   "metadata": {},
   "source": [
    "#### isidentifier()"
   ]
  },
  {
   "cell_type": "code",
   "execution_count": null,
   "id": "da6beb29",
   "metadata": {},
   "outputs": [
    {
     "name": "stdout",
     "output_type": "stream",
     "text": [
      "True\n"
     ]
    }
   ],
   "source": [
    "name = \"my_variable\"\n",
    "print(name.isidentifier())  # Output: True (checks if the string is a valid Python identifier)"
   ]
  },
  {
   "cell_type": "markdown",
   "id": "b7e5b7c3",
   "metadata": {},
   "source": [
    "#### islower()"
   ]
  },
  {
   "cell_type": "code",
   "execution_count": 67,
   "id": "a6f465f1",
   "metadata": {},
   "outputs": [
    {
     "name": "stdout",
     "output_type": "stream",
     "text": [
      "False\n",
      "True\n"
     ]
    }
   ],
   "source": [
    "a = \"Hello, World!\"\n",
    "print(a.islower())  # Output: False (checks if all characters in the string are lowercase)\n",
    "a = \"hello, world!\"\n",
    "print(a.islower())  # Output: True (checks if all characters in the string are lowercase)"
   ]
  },
  {
   "cell_type": "markdown",
   "id": "bf36bfd4",
   "metadata": {},
   "source": [
    "#### isnumeric()"
   ]
  },
  {
   "cell_type": "code",
   "execution_count": 69,
   "id": "5912bdd3",
   "metadata": {},
   "outputs": [
    {
     "name": "stdout",
     "output_type": "stream",
     "text": [
      "True\n",
      "False\n"
     ]
    }
   ],
   "source": [
    "num = \"12345\"\n",
    "print(num.isnumeric())  # Output: True (checks if the string contains only numeric characters)\n",
    "num = \"12.9\"\n",
    "print(num.isnumeric())  # Output: False (checks if the string contains only numeric characters, returns False for non-numeric characters)"
   ]
  },
  {
   "cell_type": "markdown",
   "id": "19928c53",
   "metadata": {},
   "source": [
    "#### isprintable()"
   ]
  },
  {
   "cell_type": "code",
   "execution_count": 70,
   "id": "72af77ff",
   "metadata": {},
   "outputs": [
    {
     "name": "stdout",
     "output_type": "stream",
     "text": [
      "True\n",
      "False\n"
     ]
    }
   ],
   "source": [
    "text = \"Hello World!\"\n",
    "print(text.isprintable())\n",
    "a = \"hello\\n world\"\n",
    "print(a.isprintable())  # Output: False (contains a newline character, which is not printable)"
   ]
  },
  {
   "cell_type": "markdown",
   "id": "e4ef8f35",
   "metadata": {},
   "source": [
    "#### isspace()"
   ]
  },
  {
   "cell_type": "code",
   "execution_count": 71,
   "id": "01b75121",
   "metadata": {},
   "outputs": [
    {
     "name": "stdout",
     "output_type": "stream",
     "text": [
      "True\n",
      "False\n"
     ]
    }
   ],
   "source": [
    "text = \"   \"\n",
    "print(text.isspace())\n",
    "text = \"Hello World!\"\n",
    "print(text.isspace())  # Output: False (checks if the string contains only whitespace"
   ]
  },
  {
   "cell_type": "markdown",
   "id": "b59015a3",
   "metadata": {},
   "source": [
    "#### istitle()"
   ]
  },
  {
   "cell_type": "code",
   "execution_count": 72,
   "id": "de4240a7",
   "metadata": {},
   "outputs": [
    {
     "name": "stdout",
     "output_type": "stream",
     "text": [
      "True\n"
     ]
    }
   ],
   "source": [
    "text = \"My Name Is Ali\"\n",
    "print(text.istitle())  # Output: True (checks if the string is in title case, i.e., each word starts with an uppercase letter)"
   ]
  },
  {
   "cell_type": "markdown",
   "id": "4eeafd34",
   "metadata": {},
   "source": [
    "#### isupper()"
   ]
  },
  {
   "cell_type": "code",
   "execution_count": null,
   "id": "05782a8c",
   "metadata": {},
   "outputs": [
    {
     "name": "stdout",
     "output_type": "stream",
     "text": [
      "False\n"
     ]
    }
   ],
   "source": [
    "a = \"Hello, World!\"\n",
    "print(a.isupper())  # Output: False (checks if all characters in the string are uppercase characters)"
   ]
  },
  {
   "cell_type": "markdown",
   "id": "7c29a53e",
   "metadata": {},
   "source": [
    "#### join()"
   ]
  },
  {
   "cell_type": "code",
   "execution_count": 74,
   "id": "87bb82cf",
   "metadata": {},
   "outputs": [
    {
     "name": "stdout",
     "output_type": "stream",
     "text": [
      "Python is fun\n"
     ]
    }
   ],
   "source": [
    "words = [\"Python\", \"is\", \"fun\"]\n",
    "sentence = \" \".join(words)\n",
    "print(sentence)  # Output: Python is fun (joins the list of words into a single string with spaces)"
   ]
  },
  {
   "cell_type": "markdown",
   "id": "94cf66b2",
   "metadata": {},
   "source": [
    "#### ljust()"
   ]
  },
  {
   "cell_type": "code",
   "execution_count": 75,
   "id": "98c93ffb",
   "metadata": {},
   "outputs": [
    {
     "name": "stdout",
     "output_type": "stream",
     "text": [
      "Hi--------\n"
     ]
    }
   ],
   "source": [
    "text = \"Hi\"\n",
    "print(text.ljust(10, \"-\"))\n"
   ]
  },
  {
   "cell_type": "markdown",
   "id": "0a4de7d0",
   "metadata": {},
   "source": [
    "#### lstrip"
   ]
  },
  {
   "cell_type": "code",
   "execution_count": 78,
   "id": "8953d300",
   "metadata": {},
   "outputs": [
    {
     "name": "stdout",
     "output_type": "stream",
     "text": [
      "Hello\n"
     ]
    }
   ],
   "source": [
    "text = \"   Hello\"\n",
    "print(text.lstrip())  # Output: \"Hello\" (removes leading whitespace)"
   ]
  },
  {
   "cell_type": "markdown",
   "id": "77acf36d",
   "metadata": {},
   "source": [
    "#### maketrans()"
   ]
  },
  {
   "cell_type": "code",
   "execution_count": 79,
   "id": "a6526678",
   "metadata": {},
   "outputs": [
    {
     "name": "stdout",
     "output_type": "stream",
     "text": [
      "1ppl2\n"
     ]
    }
   ],
   "source": [
    "trans = str.maketrans(\"ae\", \"12\")\n",
    "text = \"apple\"\n",
    "print(text.translate(trans))  # Output: 1ppl2 (translates 'a' to '1' and 'e' to '2')"
   ]
  },
  {
   "cell_type": "markdown",
   "id": "f12d1296",
   "metadata": {},
   "source": [
    "#### partition()"
   ]
  },
  {
   "cell_type": "code",
   "execution_count": 81,
   "id": "f69407e5",
   "metadata": {},
   "outputs": [
    {
     "name": "stdout",
     "output_type": "stream",
     "text": [
      "('hello', '@', 'world')\n"
     ]
    }
   ],
   "source": [
    "text = \"hello@world\"\n",
    "result = text.partition(\"@\")\n",
    "print(result)"
   ]
  },
  {
   "cell_type": "markdown",
   "id": "a44034d1",
   "metadata": {},
   "source": [
    "#### rfind()"
   ]
  },
  {
   "cell_type": "code",
   "execution_count": null,
   "id": "f5d56f07",
   "metadata": {},
   "outputs": [
    {
     "name": "stdout",
     "output_type": "stream",
     "text": [
      "5\n"
     ]
    }
   ],
   "source": [
    "text = \"banana\"\n",
    "position = text.rfind(\"a\") \n",
    "print(position)"
   ]
  },
  {
   "cell_type": "markdown",
   "id": "d13c1fe7",
   "metadata": {},
   "source": [
    "#### swapcase()"
   ]
  },
  {
   "cell_type": "code",
   "execution_count": 84,
   "id": "6ca272fa",
   "metadata": {},
   "outputs": [
    {
     "name": "stdout",
     "output_type": "stream",
     "text": [
      "hEllO wOrlD\n"
     ]
    }
   ],
   "source": [
    "text = \"HeLLo WoRLd\"\n",
    "print(text.swapcase())  # Output: hEllO wOrlD (swaps uppercase to lowercase and vice versa) "
   ]
  },
  {
   "cell_type": "markdown",
   "id": "02a8c033",
   "metadata": {},
   "source": [
    "#### title()"
   ]
  },
  {
   "cell_type": "code",
   "execution_count": 85,
   "id": "05de5840",
   "metadata": {},
   "outputs": [
    {
     "name": "stdout",
     "output_type": "stream",
     "text": [
      "Welcome To Python\n"
     ]
    }
   ],
   "source": [
    "text = \"welcome to python\"\n",
    "print(text.title())\n"
   ]
  },
  {
   "cell_type": "markdown",
   "id": "b0fe92af",
   "metadata": {},
   "source": [
    "#### zfill()"
   ]
  },
  {
   "cell_type": "code",
   "execution_count": 86,
   "id": "ac8ca935",
   "metadata": {},
   "outputs": [
    {
     "name": "stdout",
     "output_type": "stream",
     "text": [
      "00042\n"
     ]
    }
   ],
   "source": [
    "num = \"42\"\n",
    "print(num.zfill(5))  # Output: 00042 (pads the string with zeros to a width of 5 characters)"
   ]
  },
  {
   "cell_type": "code",
   "execution_count": null,
   "id": "1eae5d73",
   "metadata": {},
   "outputs": [],
   "source": [
    "# 25"
   ]
  }
 ],
 "metadata": {
  "kernelspec": {
   "display_name": "mlatest_env",
   "language": "python",
   "name": "python3"
  },
  "language_info": {
   "codemirror_mode": {
    "name": "ipython",
    "version": 3
   },
   "file_extension": ".py",
   "mimetype": "text/x-python",
   "name": "python",
   "nbconvert_exporter": "python",
   "pygments_lexer": "ipython3",
   "version": "3.13.2"
  }
 },
 "nbformat": 4,
 "nbformat_minor": 5
}
