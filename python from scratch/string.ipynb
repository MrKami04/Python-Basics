{
 "cells": [
  {
   "cell_type": "markdown",
   "id": "ab7e02d9",
   "metadata": {},
   "source": [
    "### Python string"
   ]
  },
  {
   "cell_type": "markdown",
   "id": "0211970d",
   "metadata": {},
   "source": [
    "#### Assign string to a variable"
   ]
  },
  {
   "cell_type": "code",
   "execution_count": 1,
   "id": "2646e7e2",
   "metadata": {},
   "outputs": [
    {
     "name": "stdout",
     "output_type": "stream",
     "text": [
      "Hello\n"
     ]
    }
   ],
   "source": [
    "a = \"Hello\"\n",
    "print(a)  # Output: Hello"
   ]
  },
  {
   "cell_type": "markdown",
   "id": "f3dbf539",
   "metadata": {},
   "source": [
    "#### multiline strings"
   ]
  },
  {
   "cell_type": "code",
   "execution_count": 4,
   "id": "47acf92b",
   "metadata": {},
   "outputs": [
    {
     "name": "stdout",
     "output_type": "stream",
     "text": [
      "\n",
      "This is a multiline string.\n",
      "Are you enjoying?\n",
      "It can span multiple lines.\n",
      "You can use it for longer text.\n",
      "\n",
      "This is another multiline string.\n",
      "Yes, i enjoing it.\n",
      "It also spans multiple lines.\n",
      "You can use it for longer text.\n",
      "\n"
     ]
    }
   ],
   "source": [
    "# three double quotes for multiline strings\n",
    "a = \"\"\"\n",
    "This is a multiline string.\n",
    "Are you enjoying?\n",
    "It can span multiple lines.\n",
    "You can use it for longer text.\n",
    "\"\"\"\n",
    "print(a)  # Output: Multiline string content\n",
    "\n",
    "# three single quotes for multiline strings\n",
    "b = '''This is another multiline string.\n",
    "Yes, i enjoing it.\n",
    "It also spans multiple lines.\n",
    "You can use it for longer text.\n",
    "'''\n",
    "print(b)  # Output: Another multiline string content"
   ]
  },
  {
   "cell_type": "code",
   "execution_count": 5,
   "id": "36f7dd09",
   "metadata": {},
   "outputs": [],
   "source": [
    "#  20 pages"
   ]
  }
 ],
 "metadata": {
  "kernelspec": {
   "display_name": "mlatest_env",
   "language": "python",
   "name": "python3"
  },
  "language_info": {
   "codemirror_mode": {
    "name": "ipython",
    "version": 3
   },
   "file_extension": ".py",
   "mimetype": "text/x-python",
   "name": "python",
   "nbconvert_exporter": "python",
   "pygments_lexer": "ipython3",
   "version": "3.13.2"
  }
 },
 "nbformat": 4,
 "nbformat_minor": 5
}
